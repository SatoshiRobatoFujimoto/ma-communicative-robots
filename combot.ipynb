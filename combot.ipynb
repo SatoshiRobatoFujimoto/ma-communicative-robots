{
 "cells": [
  {
   "cell_type": "code",
   "execution_count": 1,
   "metadata": {},
   "outputs": [],
   "source": [
    "from pprint import pprint\n",
    "\n",
    "import os\n",
    "import json\n",
    "import uuid\n",
    "\n",
    "from nltk.tokenize import TreebankWordTokenizer\n",
    "\n",
    "from signal_meta_data import Friend, Gender, Emotion, Triple, Mention, Modality\n",
    "from signal_meta_data import OffsetSegment, BoundingBoxSegment, TimeSegment\n",
    "from signal_meta_data import Scenario, ScenarioContext\n",
    "from signal_meta_data import ImageSignal, TextSignal\n",
    "from signal_meta_data import SpeakerAnnotation, UtteranceAnnotation\n",
    "from signal_meta_data import append_signal, serializer"
   ]
  },
  {
   "cell_type": "markdown",
   "metadata": {},
   "source": [
    "Define a time segments for the signals."
   ]
  },
  {
   "cell_type": "code",
   "execution_count": 2,
   "metadata": {},
   "outputs": [],
   "source": [
    "def scenario_data_path(scenario_id, file_name, modality=None, data_dir=\"data/test-scenes\"):\n",
    "    path = os.path.join(data_dir, str(scenario_id))\n",
    "    if modality:\n",
    "        path = os.path.join(path, modality.name.lower())\n",
    "    \n",
    "    return os.path.join(path, file_name)\n",
    "\n",
    "def clean(scenario_id, data_dir=\"data/test-scenes\"):\n",
    "    # clean data\n",
    "    path = scenario_data_path(scenario_id, \"\", data_dir=data_dir)\n",
    "    json_files = (os.path.join(root, file)\n",
    "             for root, _, files in os.walk(path)\n",
    "             for file in files if file.endswith(\".json\"))\n",
    "\n",
    "    for file in json_files:\n",
    "        try:\n",
    "            os.remove(file)\n",
    "            print(\"Cleaned\", file)\n",
    "        except OSError:\n",
    "            pass\n"
   ]
  },
  {
   "cell_type": "code",
   "execution_count": 3,
   "metadata": {},
   "outputs": [
    {
     "name": "stdout",
     "output_type": "stream",
     "text": [
      "Cleaned data/test-scenes/test_scenario/test_scenario.json\n",
      "Cleaned data/test-scenes/test_scenario/image.json\n",
      "Cleaned data/test-scenes/test_scenario/text.json\n",
      "{\n",
      "    \"id\": \"test_scenario\",\n",
      "    \"time\": {\n",
      "        \"end\": 1603150000,\n",
      "        \"start\": 1603139000\n",
      "    },\n",
      "    \"context\": {\n",
      "        \"agent\": \"leolani\",\n",
      "        \"speaker\": {\n",
      "            \"id\": \"5ae67b9c-dcde-4d37-bc86-ddd2fcbc05b4\",\n",
      "            \"name\": \"Piek\",\n",
      "            \"age\": 59,\n",
      "            \"gender\": \"MALE\",\n",
      "            \"emotion\": null\n",
      "        },\n",
      "        \"persons\": [],\n",
      "        \"objects\": []\n",
      "    },\n",
      "    \"signals\": {\n",
      "        \"image\": \"data/test-scenes/test_scenario/image.json\",\n",
      "        \"text\": \"data/test-scenes/test_scenario/text.json\"\n",
      "    }\n",
      "}\n"
     ]
    }
   ],
   "source": [
    "scenario_id = \"test_scenario\"\n",
    "clean(scenario_id)\n",
    "scenario_time = TimeSegment(1603139000, 1603150000)\n",
    "\n",
    "piek = Friend(None, \"Piek\", 59, Gender.MALE, None)\n",
    "context = ScenarioContext(\"leolani\", piek, [], [])\n",
    "signals = {\n",
    "    Modality.IMAGE.name.lower(): scenario_data_path(scenario_id, Modality.IMAGE.name.lower() + \".json\"),\n",
    "    Modality.TEXT.name.lower(): scenario_data_path(scenario_id, Modality.TEXT.name.lower() + \".json\")\n",
    "}\n",
    "scenario = Scenario(scenario_id, scenario_time, context, signals)\n",
    "\n",
    "print(json.dumps(scenario, default=serializer, indent=4))\n",
    "\n",
    "scenario_path = scenario_data_path(scenario_id, str(scenario_id) + \".json\")\n",
    "os.makedirs(os.path.dirname(scenario_path), exist_ok=True)\n",
    "with open(scenario_path, 'w') as scenario_file:\n",
    "    json.dump(scenario, scenario_file, default=serializer, indent=4)\n"
   ]
  },
  {
   "cell_type": "markdown",
   "metadata": {},
   "source": [
    "Define the speaker and his/her emotion."
   ]
  },
  {
   "cell_type": "code",
   "execution_count": 4,
   "metadata": {},
   "outputs": [
    {
     "name": "stdout",
     "output_type": "stream",
     "text": [
      "{\n",
      "    \"id\": \"6745fc57-c40b-410e-acae-17d7222ec497\",\n",
      "    \"modality\": \"IMAGE\",\n",
      "    \"time\": {\n",
      "        \"end\": 1603140000,\n",
      "        \"start\": 1603139705\n",
      "    },\n",
      "    \"files\": [\n",
      "        \"data/test-scenes/test_scenario/image/piek-1.jpg\"\n",
      "    ],\n",
      "    \"speaker\": {\n",
      "        \"person\": {\n",
      "            \"id\": \"0e182be6-29e9-4f44-aae5-3eb22a2dc071\",\n",
      "            \"name\": \"Piek\",\n",
      "            \"age\": 59,\n",
      "            \"gender\": \"MALE\",\n",
      "            \"emotion\": \"JOY\"\n",
      "        },\n",
      "        \"segment\": {\n",
      "            \"bounding_box\": [\n",
      "                10,\n",
      "                15,\n",
      "                521,\n",
      "                518\n",
      "            ]\n",
      "        }\n",
      "    },\n",
      "    \"emotion\": \"HAPPINESS\"\n",
      "}\n"
     ]
    }
   ],
   "source": [
    "speaker_img_file = scenario_data_path(scenario_id, \"piek-1.jpg\", Modality.IMAGE)\n",
    "speaker_img_time = TimeSegment(1603139705, 1603140000)\n",
    "\n",
    "piek = Friend(None, \"Piek\", 59, Gender.MALE, Emotion.JOY)\n",
    "bounding_box_piek = BoundingBoxSegment(10,15,521,518)\n",
    "speaker = SpeakerAnnotation(piek, bounding_box_piek)\n",
    "\n",
    "speaker_img_signal = ImageSignal(None, speaker_img_time, [speaker_img_file], Emotion.HAPPINESS, [speaker], speaker)\n",
    "print(json.dumps(speaker_img_signal, default=serializer, indent=4))\n",
    "append_signal(scenario.signals[Modality.IMAGE.name.lower()], speaker_img_signal)"
   ]
  },
  {
   "cell_type": "markdown",
   "metadata": {},
   "source": [
    "Define the annotation that goes with a family picture"
   ]
  },
  {
   "cell_type": "code",
   "execution_count": 5,
   "metadata": {},
   "outputs": [
    {
     "name": "stdout",
     "output_type": "stream",
     "text": [
      "{\n",
      "    \"id\": \"f931bded-80cd-427f-936c-0ef12019af73\",\n",
      "    \"modality\": \"IMAGE\",\n",
      "    \"time\": {\n",
      "        \"end\": 1603149860,\n",
      "        \"start\": 1603139840\n",
      "    },\n",
      "    \"files\": [\n",
      "        \"data/test-scenes/test_scenario/image/pexels-victoria-borodinova-1648358.jpg\"\n",
      "    ],\n",
      "    \"speaker\": null,\n",
      "    \"emotion\": \"HAPPINESS\"\n",
      "}\n"
     ]
    }
   ],
   "source": [
    "family_img_file = scenario_data_path(scenario_id, \"pexels-victoria-borodinova-1648358.jpg\", Modality.IMAGE)\n",
    "family_img_time = TimeSegment(1603139840, 1603149860)\n",
    "\n",
    "jim = Friend(None, token[1], 32, Gender.MALE, None)\n",
    "family_img_signal = ImageSignal(None, family_img_time, [family_img_file], Emotion.HAPPINESS, [jim], piek)\n",
    "\n",
    "print(json.dumps(family_img_signal, default=serializer, indent=4))\n",
    "append_signal(scenario.signals[Modality.IMAGE.name.lower()], family_img_signal)"
   ]
  },
  {
   "cell_type": "markdown",
   "metadata": {},
   "source": [
    "Annotation of the communication about the picture(s)"
   ]
  },
  {
   "cell_type": "code",
   "execution_count": 6,
   "metadata": {},
   "outputs": [
    {
     "name": "stdout",
     "output_type": "stream",
     "text": [
      "[(0, ((0, 4), 'That')),\n",
      " (1, ((5, 7), 'is')),\n",
      " (2, ((8, 10), 'my')),\n",
      " (3, ((11, 18), 'brother')),\n",
      " (4, ((19, 22), 'Jim'))]\n"
     ]
    }
   ],
   "source": [
    "def tokenize(text):\n",
    "    offsets = tuple(TreebankWordTokenizer().span_tokenize(text))\n",
    "    \n",
    "    return tuple(((start, end), text[start:end]) for start, end in offsets)\n",
    "    \n",
    "pprint([t for t in enumerate(tokenize(\"That is my brother Jim\"))])"
   ]
  },
  {
   "cell_type": "code",
   "execution_count": 7,
   "metadata": {},
   "outputs": [
    {
     "name": "stdout",
     "output_type": "stream",
     "text": [
      "{\n",
      "    \"id\": \"2ec83de9-9701-44db-90cc-4df5ba41f93c\",\n",
      "    \"modality\": \"TEXT\",\n",
      "    \"time\": {\n",
      "        \"end\": 1603149890,\n",
      "        \"start\": 1603139850\n",
      "    },\n",
      "    \"files\": [\n",
      "        \"data/test-scenes/test_scenario/text/chat1_utterance1.txt\"\n",
      "    ],\n",
      "    \"utterances\": [\n",
      "        {\n",
      "            \"chat_id\": \"9bdf5723-8bd1-4b57-b9a2-f61af07e6245\",\n",
      "            \"utterance_id\": \"e419f966-6f7b-444b-aa30-378dbdeaf07a\",\n",
      "            \"utterance\": \"That is my brother Jim\",\n",
      "            \"tokens\": [\n",
      "                [\n",
      "                    [\n",
      "                        0,\n",
      "                        4\n",
      "                    ],\n",
      "                    \"That\"\n",
      "                ],\n",
      "                [\n",
      "                    [\n",
      "                        5,\n",
      "                        7\n",
      "                    ],\n",
      "                    \"is\"\n",
      "                ],\n",
      "                [\n",
      "                    [\n",
      "                        8,\n",
      "                        10\n",
      "                    ],\n",
      "                    \"my\"\n",
      "                ],\n",
      "                [\n",
      "                    [\n",
      "                        11,\n",
      "                        18\n",
      "                    ],\n",
      "                    \"brother\"\n",
      "                ],\n",
      "                [\n",
      "                    [\n",
      "                        19,\n",
      "                        22\n",
      "                    ],\n",
      "                    \"Jim\"\n",
      "                ]\n",
      "            ],\n",
      "            \"speaker\": {\n",
      "                \"person\": {\n",
      "                    \"id\": \"0e182be6-29e9-4f44-aae5-3eb22a2dc071\",\n",
      "                    \"name\": \"Piek\",\n",
      "                    \"age\": 59,\n",
      "                    \"gender\": \"MALE\",\n",
      "                    \"emotion\": \"JOY\"\n",
      "                },\n",
      "                \"segment\": {\n",
      "                    \"offset\": [\n",
      "                        0,\n",
      "                        5\n",
      "                    ]\n",
      "                }\n",
      "            },\n",
      "            \"mentions\": [\n",
      "                {\n",
      "                    \"token_offset\": {\n",
      "                        \"offset\": [\n",
      "                            4,\n",
      "                            5\n",
      "                        ]\n",
      "                    },\n",
      "                    \"phrase\": [\n",
      "                        [\n",
      "                            19,\n",
      "                            22\n",
      "                        ],\n",
      "                        \"Jim\"\n",
      "                    ],\n",
      "                    \"referent\": {\n",
      "                        \"id\": \"668c04e8-259f-4325-b6b2-c791aead2434\",\n",
      "                        \"name\": \"Jim\",\n",
      "                        \"age\": 32,\n",
      "                        \"gender\": \"MALE\",\n",
      "                        \"emotion\": null\n",
      "                    }\n",
      "                }\n",
      "            ],\n",
      "            \"emotion\": \"JOY\"\n",
      "        }\n",
      "    ],\n",
      "    \"triples\": [\n",
      "        {\n",
      "            \"subject\": {\n",
      "                \"id\": \"http://cltl.nl/leolani/friends/0e182be6-29e9-4f44-aae5-3eb22a2dc071\",\n",
      "                \"type\": \"FRIEND\"\n",
      "            },\n",
      "            \"predicate\": \"http://cltl.nl/combot/predicate/brother-of\",\n",
      "            \"object\": {\n",
      "                \"id\": \"http://cltl.nl/leolani/friends/668c04e8-259f-4325-b6b2-c791aead2434\",\n",
      "                \"type\": \"FRIEND\"\n",
      "            }\n",
      "        }\n",
      "    ]\n",
      "}\n"
     ]
    }
   ],
   "source": [
    "speaker = piek\n",
    "utterance_time = TimeSegment(1603139850, 1603149890)\n",
    "\n",
    "transcript = scenario_data_path(scenario_id, \"chat1_utterance1.txt\", Modality.TEXT)\n",
    "utterance = \"That is my brother Jim\"\n",
    "tokens = tokenize(utterance)\n",
    "\n",
    "#referentImage = ()\n",
    "token = tokens[4]\n",
    "referent_jim = Friend(None, token[1], 32, Gender.MALE, None)\n",
    "mention = Mention(OffsetSegment(4,5), tokens[4], referent_jim)\n",
    "\n",
    "utterance_annotation = UtteranceAnnotation(None, None, utterance, tokens, piek,\n",
    "                                           Emotion.JOY, [mention])\n",
    "\n",
    "triples = (Triple.from_friends(str(speaker.id), \"brother-of\", str(referent_jim.id)),)\n",
    "\n",
    "text_signal =  TextSignal(None, utterance_time, [transcript], [utterance_annotation], triples)\n",
    "\n",
    "print(json.dumps(text_signal, default=serializer, indent=4))\n",
    "append_signal(scenario.signals[Modality.TEXT.name.lower()], text_signal)"
   ]
  },
  {
   "cell_type": "code",
   "execution_count": 8,
   "metadata": {},
   "outputs": [],
   "source": [
    "for signal_file in scenario.signals.values():\n",
    "    append_signal(signal_file, None, terminate=True)"
   ]
  },
  {
   "cell_type": "markdown",
   "metadata": {},
   "source": [
    "### Convert to Leolani domain"
   ]
  },
  {
   "cell_type": "code",
   "execution_count": 9,
   "metadata": {},
   "outputs": [],
   "source": [
    "from convert import convert, integrate_image_signal, integrate_text_signal"
   ]
  },
  {
   "cell_type": "code",
   "execution_count": 10,
   "metadata": {},
   "outputs": [
    {
     "name": "stdout",
     "output_type": "stream",
     "text": [
      "{\n",
      "    \"_id\": 59488721220420899366191374731082536200,\n",
      "    \"_name\": \"test_scenario\",\n",
      "    \"_friends\": [],\n",
      "    \"_chats\": [],\n",
      "    \"_chat_start\": null,\n",
      "    \"_chatting\": false,\n",
      "    \"_people\": {},\n",
      "    \"_current_people\": [],\n",
      "    \"_objects\": {\n",
      "        \"_object_observations\": {}\n",
      "    },\n",
      "    \"_intention\": null,\n",
      "    \"_location\": {\n",
      "        \"_id\": 173329505591303661316720785455624394805,\n",
      "        \"_label\": \"Unknown\",\n",
      "        \"_country\": \"Unknown\",\n",
      "        \"_region\": \"Unknown\",\n",
      "        \"_city\": \"Unknown\"\n",
      "    }\n",
      "}\n"
     ]
    }
   ],
   "source": [
    "leolani_context = convert(scenario)\n",
    "print(json.dumps(leolani_context, default=vars, indent=4))"
   ]
  },
  {
   "cell_type": "code",
   "execution_count": 11,
   "metadata": {},
   "outputs": [
    {
     "name": "stdout",
     "output_type": "stream",
     "text": [
      "[('pepper.framework.sensor.api.face_detector.topic', {'payload': Face(Piek, 100%), 'metadata': None})]\n"
     ]
    }
   ],
   "source": [
    "print(str([(topic, vars(ev)) for topic, ev in integrate_image_signal(speaker_img_signal)]))"
   ]
  },
  {
   "cell_type": "code",
   "execution_count": 12,
   "metadata": {},
   "outputs": [
    {
     "name": "stdout",
     "output_type": "stream",
     "text": [
      "[('pepper.framework.context.topic.chat_enter', {'payload': 'Piek', 'metadata': None}), ('pepper.framework.context.topic.chat_turn', {'payload': <'That is my brother Jim' [100.00%]>, 'metadata': None})]\n",
      "\n",
      "(http://cltl.nl/leolani/friends/0e182be6-29e9-4f44-aae5-3eb22a2dc071_http://cltl.nl/combot/predicate/brother-of_http://cltl.nl/leolani/friends/668c04e8-259f-4325-b6b2-c791aead2434 [friend_->_friend]),)\n"
     ]
    }
   ],
   "source": [
    "events, triples = integrate_text_signal(text_signal, leolani_context)\n",
    "print(str([(topic, vars(ev)) for topic, ev in events]))\n",
    "print()\n",
    "print(triples)"
   ]
  },
  {
   "cell_type": "code",
   "execution_count": 13,
   "metadata": {},
   "outputs": [
    {
     "ename": "ValueError",
     "evalue": "Circular reference detected",
     "output_type": "error",
     "traceback": [
      "\u001b[0;31m---------------------------------------------------------------------------\u001b[0m",
      "\u001b[0;31mValueError\u001b[0m                                Traceback (most recent call last)",
      "\u001b[0;32m<ipython-input-13-56051311e1b1>\u001b[0m in \u001b[0;36m<module>\u001b[0;34m\u001b[0m\n\u001b[0;32m----> 1\u001b[0;31m \u001b[0mprint\u001b[0m\u001b[0;34m(\u001b[0m\u001b[0mjson\u001b[0m\u001b[0;34m.\u001b[0m\u001b[0mdumps\u001b[0m\u001b[0;34m(\u001b[0m\u001b[0mleolani_context\u001b[0m\u001b[0;34m,\u001b[0m \u001b[0mdefault\u001b[0m\u001b[0;34m=\u001b[0m\u001b[0mvars\u001b[0m\u001b[0;34m,\u001b[0m \u001b[0mindent\u001b[0m\u001b[0;34m=\u001b[0m\u001b[0;36m4\u001b[0m\u001b[0;34m)\u001b[0m\u001b[0;34m)\u001b[0m\u001b[0;34m\u001b[0m\u001b[0;34m\u001b[0m\u001b[0m\n\u001b[0m",
      "\u001b[0;32m/usr/local/Cellar/python/3.7.7/Frameworks/Python.framework/Versions/3.7/lib/python3.7/json/__init__.py\u001b[0m in \u001b[0;36mdumps\u001b[0;34m(obj, skipkeys, ensure_ascii, check_circular, allow_nan, cls, indent, separators, default, sort_keys, **kw)\u001b[0m\n\u001b[1;32m    236\u001b[0m         \u001b[0mcheck_circular\u001b[0m\u001b[0;34m=\u001b[0m\u001b[0mcheck_circular\u001b[0m\u001b[0;34m,\u001b[0m \u001b[0mallow_nan\u001b[0m\u001b[0;34m=\u001b[0m\u001b[0mallow_nan\u001b[0m\u001b[0;34m,\u001b[0m \u001b[0mindent\u001b[0m\u001b[0;34m=\u001b[0m\u001b[0mindent\u001b[0m\u001b[0;34m,\u001b[0m\u001b[0;34m\u001b[0m\u001b[0;34m\u001b[0m\u001b[0m\n\u001b[1;32m    237\u001b[0m         \u001b[0mseparators\u001b[0m\u001b[0;34m=\u001b[0m\u001b[0mseparators\u001b[0m\u001b[0;34m,\u001b[0m \u001b[0mdefault\u001b[0m\u001b[0;34m=\u001b[0m\u001b[0mdefault\u001b[0m\u001b[0;34m,\u001b[0m \u001b[0msort_keys\u001b[0m\u001b[0;34m=\u001b[0m\u001b[0msort_keys\u001b[0m\u001b[0;34m,\u001b[0m\u001b[0;34m\u001b[0m\u001b[0;34m\u001b[0m\u001b[0m\n\u001b[0;32m--> 238\u001b[0;31m         **kw).encode(obj)\n\u001b[0m\u001b[1;32m    239\u001b[0m \u001b[0;34m\u001b[0m\u001b[0m\n\u001b[1;32m    240\u001b[0m \u001b[0;34m\u001b[0m\u001b[0m\n",
      "\u001b[0;32m/usr/local/Cellar/python/3.7.7/Frameworks/Python.framework/Versions/3.7/lib/python3.7/json/encoder.py\u001b[0m in \u001b[0;36mencode\u001b[0;34m(self, o)\u001b[0m\n\u001b[1;32m    199\u001b[0m         \u001b[0mchunks\u001b[0m \u001b[0;34m=\u001b[0m \u001b[0mself\u001b[0m\u001b[0;34m.\u001b[0m\u001b[0miterencode\u001b[0m\u001b[0;34m(\u001b[0m\u001b[0mo\u001b[0m\u001b[0;34m,\u001b[0m \u001b[0m_one_shot\u001b[0m\u001b[0;34m=\u001b[0m\u001b[0;32mTrue\u001b[0m\u001b[0;34m)\u001b[0m\u001b[0;34m\u001b[0m\u001b[0;34m\u001b[0m\u001b[0m\n\u001b[1;32m    200\u001b[0m         \u001b[0;32mif\u001b[0m \u001b[0;32mnot\u001b[0m \u001b[0misinstance\u001b[0m\u001b[0;34m(\u001b[0m\u001b[0mchunks\u001b[0m\u001b[0;34m,\u001b[0m \u001b[0;34m(\u001b[0m\u001b[0mlist\u001b[0m\u001b[0;34m,\u001b[0m \u001b[0mtuple\u001b[0m\u001b[0;34m)\u001b[0m\u001b[0;34m)\u001b[0m\u001b[0;34m:\u001b[0m\u001b[0;34m\u001b[0m\u001b[0;34m\u001b[0m\u001b[0m\n\u001b[0;32m--> 201\u001b[0;31m             \u001b[0mchunks\u001b[0m \u001b[0;34m=\u001b[0m \u001b[0mlist\u001b[0m\u001b[0;34m(\u001b[0m\u001b[0mchunks\u001b[0m\u001b[0;34m)\u001b[0m\u001b[0;34m\u001b[0m\u001b[0;34m\u001b[0m\u001b[0m\n\u001b[0m\u001b[1;32m    202\u001b[0m         \u001b[0;32mreturn\u001b[0m \u001b[0;34m''\u001b[0m\u001b[0;34m.\u001b[0m\u001b[0mjoin\u001b[0m\u001b[0;34m(\u001b[0m\u001b[0mchunks\u001b[0m\u001b[0;34m)\u001b[0m\u001b[0;34m\u001b[0m\u001b[0;34m\u001b[0m\u001b[0m\n\u001b[1;32m    203\u001b[0m \u001b[0;34m\u001b[0m\u001b[0m\n",
      "\u001b[0;32m/usr/local/Cellar/python/3.7.7/Frameworks/Python.framework/Versions/3.7/lib/python3.7/json/encoder.py\u001b[0m in \u001b[0;36m_iterencode\u001b[0;34m(o, _current_indent_level)\u001b[0m\n\u001b[1;32m    437\u001b[0m                 \u001b[0mmarkers\u001b[0m\u001b[0;34m[\u001b[0m\u001b[0mmarkerid\u001b[0m\u001b[0;34m]\u001b[0m \u001b[0;34m=\u001b[0m \u001b[0mo\u001b[0m\u001b[0;34m\u001b[0m\u001b[0;34m\u001b[0m\u001b[0m\n\u001b[1;32m    438\u001b[0m             \u001b[0mo\u001b[0m \u001b[0;34m=\u001b[0m \u001b[0m_default\u001b[0m\u001b[0;34m(\u001b[0m\u001b[0mo\u001b[0m\u001b[0;34m)\u001b[0m\u001b[0;34m\u001b[0m\u001b[0;34m\u001b[0m\u001b[0m\n\u001b[0;32m--> 439\u001b[0;31m             \u001b[0;32myield\u001b[0m \u001b[0;32mfrom\u001b[0m \u001b[0m_iterencode\u001b[0m\u001b[0;34m(\u001b[0m\u001b[0mo\u001b[0m\u001b[0;34m,\u001b[0m \u001b[0m_current_indent_level\u001b[0m\u001b[0;34m)\u001b[0m\u001b[0;34m\u001b[0m\u001b[0;34m\u001b[0m\u001b[0m\n\u001b[0m\u001b[1;32m    440\u001b[0m             \u001b[0;32mif\u001b[0m \u001b[0mmarkers\u001b[0m \u001b[0;32mis\u001b[0m \u001b[0;32mnot\u001b[0m \u001b[0;32mNone\u001b[0m\u001b[0;34m:\u001b[0m\u001b[0;34m\u001b[0m\u001b[0;34m\u001b[0m\u001b[0m\n\u001b[1;32m    441\u001b[0m                 \u001b[0;32mdel\u001b[0m \u001b[0mmarkers\u001b[0m\u001b[0;34m[\u001b[0m\u001b[0mmarkerid\u001b[0m\u001b[0;34m]\u001b[0m\u001b[0;34m\u001b[0m\u001b[0;34m\u001b[0m\u001b[0m\n",
      "\u001b[0;32m/usr/local/Cellar/python/3.7.7/Frameworks/Python.framework/Versions/3.7/lib/python3.7/json/encoder.py\u001b[0m in \u001b[0;36m_iterencode\u001b[0;34m(o, _current_indent_level)\u001b[0m\n\u001b[1;32m    429\u001b[0m             \u001b[0;32myield\u001b[0m \u001b[0;32mfrom\u001b[0m \u001b[0m_iterencode_list\u001b[0m\u001b[0;34m(\u001b[0m\u001b[0mo\u001b[0m\u001b[0;34m,\u001b[0m \u001b[0m_current_indent_level\u001b[0m\u001b[0;34m)\u001b[0m\u001b[0;34m\u001b[0m\u001b[0;34m\u001b[0m\u001b[0m\n\u001b[1;32m    430\u001b[0m         \u001b[0;32melif\u001b[0m \u001b[0misinstance\u001b[0m\u001b[0;34m(\u001b[0m\u001b[0mo\u001b[0m\u001b[0;34m,\u001b[0m \u001b[0mdict\u001b[0m\u001b[0;34m)\u001b[0m\u001b[0;34m:\u001b[0m\u001b[0;34m\u001b[0m\u001b[0;34m\u001b[0m\u001b[0m\n\u001b[0;32m--> 431\u001b[0;31m             \u001b[0;32myield\u001b[0m \u001b[0;32mfrom\u001b[0m \u001b[0m_iterencode_dict\u001b[0m\u001b[0;34m(\u001b[0m\u001b[0mo\u001b[0m\u001b[0;34m,\u001b[0m \u001b[0m_current_indent_level\u001b[0m\u001b[0;34m)\u001b[0m\u001b[0;34m\u001b[0m\u001b[0;34m\u001b[0m\u001b[0m\n\u001b[0m\u001b[1;32m    432\u001b[0m         \u001b[0;32melse\u001b[0m\u001b[0;34m:\u001b[0m\u001b[0;34m\u001b[0m\u001b[0;34m\u001b[0m\u001b[0m\n\u001b[1;32m    433\u001b[0m             \u001b[0;32mif\u001b[0m \u001b[0mmarkers\u001b[0m \u001b[0;32mis\u001b[0m \u001b[0;32mnot\u001b[0m \u001b[0;32mNone\u001b[0m\u001b[0;34m:\u001b[0m\u001b[0;34m\u001b[0m\u001b[0;34m\u001b[0m\u001b[0m\n",
      "\u001b[0;32m/usr/local/Cellar/python/3.7.7/Frameworks/Python.framework/Versions/3.7/lib/python3.7/json/encoder.py\u001b[0m in \u001b[0;36m_iterencode_dict\u001b[0;34m(dct, _current_indent_level)\u001b[0m\n\u001b[1;32m    403\u001b[0m                 \u001b[0;32melse\u001b[0m\u001b[0;34m:\u001b[0m\u001b[0;34m\u001b[0m\u001b[0;34m\u001b[0m\u001b[0m\n\u001b[1;32m    404\u001b[0m                     \u001b[0mchunks\u001b[0m \u001b[0;34m=\u001b[0m \u001b[0m_iterencode\u001b[0m\u001b[0;34m(\u001b[0m\u001b[0mvalue\u001b[0m\u001b[0;34m,\u001b[0m \u001b[0m_current_indent_level\u001b[0m\u001b[0;34m)\u001b[0m\u001b[0;34m\u001b[0m\u001b[0;34m\u001b[0m\u001b[0m\n\u001b[0;32m--> 405\u001b[0;31m                 \u001b[0;32myield\u001b[0m \u001b[0;32mfrom\u001b[0m \u001b[0mchunks\u001b[0m\u001b[0;34m\u001b[0m\u001b[0;34m\u001b[0m\u001b[0m\n\u001b[0m\u001b[1;32m    406\u001b[0m         \u001b[0;32mif\u001b[0m \u001b[0mnewline_indent\u001b[0m \u001b[0;32mis\u001b[0m \u001b[0;32mnot\u001b[0m \u001b[0;32mNone\u001b[0m\u001b[0;34m:\u001b[0m\u001b[0;34m\u001b[0m\u001b[0;34m\u001b[0m\u001b[0m\n\u001b[1;32m    407\u001b[0m             \u001b[0m_current_indent_level\u001b[0m \u001b[0;34m-=\u001b[0m \u001b[0;36m1\u001b[0m\u001b[0;34m\u001b[0m\u001b[0;34m\u001b[0m\u001b[0m\n",
      "\u001b[0;32m/usr/local/Cellar/python/3.7.7/Frameworks/Python.framework/Versions/3.7/lib/python3.7/json/encoder.py\u001b[0m in \u001b[0;36m_iterencode_list\u001b[0;34m(lst, _current_indent_level)\u001b[0m\n\u001b[1;32m    323\u001b[0m                 \u001b[0;32melse\u001b[0m\u001b[0;34m:\u001b[0m\u001b[0;34m\u001b[0m\u001b[0;34m\u001b[0m\u001b[0m\n\u001b[1;32m    324\u001b[0m                     \u001b[0mchunks\u001b[0m \u001b[0;34m=\u001b[0m \u001b[0m_iterencode\u001b[0m\u001b[0;34m(\u001b[0m\u001b[0mvalue\u001b[0m\u001b[0;34m,\u001b[0m \u001b[0m_current_indent_level\u001b[0m\u001b[0;34m)\u001b[0m\u001b[0;34m\u001b[0m\u001b[0;34m\u001b[0m\u001b[0m\n\u001b[0;32m--> 325\u001b[0;31m                 \u001b[0;32myield\u001b[0m \u001b[0;32mfrom\u001b[0m \u001b[0mchunks\u001b[0m\u001b[0;34m\u001b[0m\u001b[0;34m\u001b[0m\u001b[0m\n\u001b[0m\u001b[1;32m    326\u001b[0m         \u001b[0;32mif\u001b[0m \u001b[0mnewline_indent\u001b[0m \u001b[0;32mis\u001b[0m \u001b[0;32mnot\u001b[0m \u001b[0;32mNone\u001b[0m\u001b[0;34m:\u001b[0m\u001b[0;34m\u001b[0m\u001b[0;34m\u001b[0m\u001b[0m\n\u001b[1;32m    327\u001b[0m             \u001b[0m_current_indent_level\u001b[0m \u001b[0;34m-=\u001b[0m \u001b[0;36m1\u001b[0m\u001b[0;34m\u001b[0m\u001b[0;34m\u001b[0m\u001b[0m\n",
      "\u001b[0;32m/usr/local/Cellar/python/3.7.7/Frameworks/Python.framework/Versions/3.7/lib/python3.7/json/encoder.py\u001b[0m in \u001b[0;36m_iterencode\u001b[0;34m(o, _current_indent_level)\u001b[0m\n\u001b[1;32m    437\u001b[0m                 \u001b[0mmarkers\u001b[0m\u001b[0;34m[\u001b[0m\u001b[0mmarkerid\u001b[0m\u001b[0;34m]\u001b[0m \u001b[0;34m=\u001b[0m \u001b[0mo\u001b[0m\u001b[0;34m\u001b[0m\u001b[0;34m\u001b[0m\u001b[0m\n\u001b[1;32m    438\u001b[0m             \u001b[0mo\u001b[0m \u001b[0;34m=\u001b[0m \u001b[0m_default\u001b[0m\u001b[0;34m(\u001b[0m\u001b[0mo\u001b[0m\u001b[0;34m)\u001b[0m\u001b[0;34m\u001b[0m\u001b[0;34m\u001b[0m\u001b[0m\n\u001b[0;32m--> 439\u001b[0;31m             \u001b[0;32myield\u001b[0m \u001b[0;32mfrom\u001b[0m \u001b[0m_iterencode\u001b[0m\u001b[0;34m(\u001b[0m\u001b[0mo\u001b[0m\u001b[0;34m,\u001b[0m \u001b[0m_current_indent_level\u001b[0m\u001b[0;34m)\u001b[0m\u001b[0;34m\u001b[0m\u001b[0;34m\u001b[0m\u001b[0m\n\u001b[0m\u001b[1;32m    440\u001b[0m             \u001b[0;32mif\u001b[0m \u001b[0mmarkers\u001b[0m \u001b[0;32mis\u001b[0m \u001b[0;32mnot\u001b[0m \u001b[0;32mNone\u001b[0m\u001b[0;34m:\u001b[0m\u001b[0;34m\u001b[0m\u001b[0;34m\u001b[0m\u001b[0m\n\u001b[1;32m    441\u001b[0m                 \u001b[0;32mdel\u001b[0m \u001b[0mmarkers\u001b[0m\u001b[0;34m[\u001b[0m\u001b[0mmarkerid\u001b[0m\u001b[0;34m]\u001b[0m\u001b[0;34m\u001b[0m\u001b[0;34m\u001b[0m\u001b[0m\n",
      "\u001b[0;32m/usr/local/Cellar/python/3.7.7/Frameworks/Python.framework/Versions/3.7/lib/python3.7/json/encoder.py\u001b[0m in \u001b[0;36m_iterencode\u001b[0;34m(o, _current_indent_level)\u001b[0m\n\u001b[1;32m    429\u001b[0m             \u001b[0;32myield\u001b[0m \u001b[0;32mfrom\u001b[0m \u001b[0m_iterencode_list\u001b[0m\u001b[0;34m(\u001b[0m\u001b[0mo\u001b[0m\u001b[0;34m,\u001b[0m \u001b[0m_current_indent_level\u001b[0m\u001b[0;34m)\u001b[0m\u001b[0;34m\u001b[0m\u001b[0;34m\u001b[0m\u001b[0m\n\u001b[1;32m    430\u001b[0m         \u001b[0;32melif\u001b[0m \u001b[0misinstance\u001b[0m\u001b[0;34m(\u001b[0m\u001b[0mo\u001b[0m\u001b[0;34m,\u001b[0m \u001b[0mdict\u001b[0m\u001b[0;34m)\u001b[0m\u001b[0;34m:\u001b[0m\u001b[0;34m\u001b[0m\u001b[0;34m\u001b[0m\u001b[0m\n\u001b[0;32m--> 431\u001b[0;31m             \u001b[0;32myield\u001b[0m \u001b[0;32mfrom\u001b[0m \u001b[0m_iterencode_dict\u001b[0m\u001b[0;34m(\u001b[0m\u001b[0mo\u001b[0m\u001b[0;34m,\u001b[0m \u001b[0m_current_indent_level\u001b[0m\u001b[0;34m)\u001b[0m\u001b[0;34m\u001b[0m\u001b[0;34m\u001b[0m\u001b[0m\n\u001b[0m\u001b[1;32m    432\u001b[0m         \u001b[0;32melse\u001b[0m\u001b[0;34m:\u001b[0m\u001b[0;34m\u001b[0m\u001b[0;34m\u001b[0m\u001b[0m\n\u001b[1;32m    433\u001b[0m             \u001b[0;32mif\u001b[0m \u001b[0mmarkers\u001b[0m \u001b[0;32mis\u001b[0m \u001b[0;32mnot\u001b[0m \u001b[0;32mNone\u001b[0m\u001b[0;34m:\u001b[0m\u001b[0;34m\u001b[0m\u001b[0;34m\u001b[0m\u001b[0m\n",
      "\u001b[0;32m/usr/local/Cellar/python/3.7.7/Frameworks/Python.framework/Versions/3.7/lib/python3.7/json/encoder.py\u001b[0m in \u001b[0;36m_iterencode_dict\u001b[0;34m(dct, _current_indent_level)\u001b[0m\n\u001b[1;32m    403\u001b[0m                 \u001b[0;32melse\u001b[0m\u001b[0;34m:\u001b[0m\u001b[0;34m\u001b[0m\u001b[0;34m\u001b[0m\u001b[0m\n\u001b[1;32m    404\u001b[0m                     \u001b[0mchunks\u001b[0m \u001b[0;34m=\u001b[0m \u001b[0m_iterencode\u001b[0m\u001b[0;34m(\u001b[0m\u001b[0mvalue\u001b[0m\u001b[0;34m,\u001b[0m \u001b[0m_current_indent_level\u001b[0m\u001b[0;34m)\u001b[0m\u001b[0;34m\u001b[0m\u001b[0;34m\u001b[0m\u001b[0m\n\u001b[0;32m--> 405\u001b[0;31m                 \u001b[0;32myield\u001b[0m \u001b[0;32mfrom\u001b[0m \u001b[0mchunks\u001b[0m\u001b[0;34m\u001b[0m\u001b[0;34m\u001b[0m\u001b[0m\n\u001b[0m\u001b[1;32m    406\u001b[0m         \u001b[0;32mif\u001b[0m \u001b[0mnewline_indent\u001b[0m \u001b[0;32mis\u001b[0m \u001b[0;32mnot\u001b[0m \u001b[0;32mNone\u001b[0m\u001b[0;34m:\u001b[0m\u001b[0;34m\u001b[0m\u001b[0;34m\u001b[0m\u001b[0m\n\u001b[1;32m    407\u001b[0m             \u001b[0m_current_indent_level\u001b[0m \u001b[0;34m-=\u001b[0m \u001b[0;36m1\u001b[0m\u001b[0;34m\u001b[0m\u001b[0;34m\u001b[0m\u001b[0m\n",
      "\u001b[0;32m/usr/local/Cellar/python/3.7.7/Frameworks/Python.framework/Versions/3.7/lib/python3.7/json/encoder.py\u001b[0m in \u001b[0;36m_iterencode\u001b[0;34m(o, _current_indent_level)\u001b[0m\n\u001b[1;32m    434\u001b[0m                 \u001b[0mmarkerid\u001b[0m \u001b[0;34m=\u001b[0m \u001b[0mid\u001b[0m\u001b[0;34m(\u001b[0m\u001b[0mo\u001b[0m\u001b[0;34m)\u001b[0m\u001b[0;34m\u001b[0m\u001b[0;34m\u001b[0m\u001b[0m\n\u001b[1;32m    435\u001b[0m                 \u001b[0;32mif\u001b[0m \u001b[0mmarkerid\u001b[0m \u001b[0;32min\u001b[0m \u001b[0mmarkers\u001b[0m\u001b[0;34m:\u001b[0m\u001b[0;34m\u001b[0m\u001b[0;34m\u001b[0m\u001b[0m\n\u001b[0;32m--> 436\u001b[0;31m                     \u001b[0;32mraise\u001b[0m \u001b[0mValueError\u001b[0m\u001b[0;34m(\u001b[0m\u001b[0;34m\"Circular reference detected\"\u001b[0m\u001b[0;34m)\u001b[0m\u001b[0;34m\u001b[0m\u001b[0;34m\u001b[0m\u001b[0m\n\u001b[0m\u001b[1;32m    437\u001b[0m                 \u001b[0mmarkers\u001b[0m\u001b[0;34m[\u001b[0m\u001b[0mmarkerid\u001b[0m\u001b[0;34m]\u001b[0m \u001b[0;34m=\u001b[0m \u001b[0mo\u001b[0m\u001b[0;34m\u001b[0m\u001b[0;34m\u001b[0m\u001b[0m\n\u001b[1;32m    438\u001b[0m             \u001b[0mo\u001b[0m \u001b[0;34m=\u001b[0m \u001b[0m_default\u001b[0m\u001b[0;34m(\u001b[0m\u001b[0mo\u001b[0m\u001b[0;34m)\u001b[0m\u001b[0;34m\u001b[0m\u001b[0;34m\u001b[0m\u001b[0m\n",
      "\u001b[0;31mValueError\u001b[0m: Circular reference detected"
     ]
    }
   ],
   "source": [
    "print(json.dumps(leolani_context, default=vars, indent=4))"
   ]
  },
  {
   "cell_type": "code",
   "execution_count": null,
   "metadata": {},
   "outputs": [],
   "source": []
  }
 ],
 "metadata": {
  "kernelspec": {
   "display_name": "Python 3",
   "language": "python",
   "name": "python3"
  },
  "language_info": {
   "codemirror_mode": {
    "name": "ipython",
    "version": 3
   },
   "file_extension": ".py",
   "mimetype": "text/x-python",
   "name": "python",
   "nbconvert_exporter": "python",
   "pygments_lexer": "ipython3",
   "version": "3.7.7"
  }
 },
 "nbformat": 4,
 "nbformat_minor": 4
}
