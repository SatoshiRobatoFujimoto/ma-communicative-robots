{
 "cells": [
  {
   "cell_type": "code",
   "execution_count": 4,
   "metadata": {},
   "outputs": [],
   "source": [
    "import json\n",
    "from pprint import pprint\n",
    "from signal_meta_data import Signal, TextAnnotation, ImageAnnotation, Friend, Mention\n",
    "from nltk.tokenize import TreebankWordTokenizer"
   ]
  },
  {
   "cell_type": "markdown",
   "metadata": {},
   "source": [
    "Define a scenario with multimodal input"
   ]
  },
  {
   "cell_type": "code",
   "execution_count": 5,
   "metadata": {},
   "outputs": [
    {
     "name": "stdout",
     "output_type": "stream",
     "text": [
      "{\n",
      "    \"sui\": \"scene1\",\n",
      "    \"modality\": \"jpg\",\n",
      "    \"time_begin\": 1603139705,\n",
      "    \"time_end\": 1603140000\n",
      "}\n"
     ]
    }
   ],
   "source": [
    "sui = \"scene1\"\n",
    "modality = \"jpg\"\n",
    "time_begin = 1603139705\n",
    "time_end =   1603140000\n",
    "signal = Signal(sui, modality, time_begin, time_end)\n",
    "print(json.dumps(signal, indent=4, default=vars))\n",
    "with open(\"data/suifile.json\", \"w\") as write_file:\n",
    "    json.dump(signal, write_file, indent=4, default=vars)"
   ]
  },
  {
   "cell_type": "markdown",
   "metadata": {},
   "source": [
    "Define the speaker and his/her emotion"
   ]
  },
  {
   "cell_type": "code",
   "execution_count": 6,
   "metadata": {},
   "outputs": [
    {
     "name": "stdout",
     "output_type": "stream",
     "text": [
      "{\n",
      "    \"sui\": {\n",
      "        \"sui\": \"scene1\",\n",
      "        \"modality\": \"jpg\",\n",
      "        \"time_begin\": 1603139705,\n",
      "        \"time_end\": 1603140000\n",
      "    },\n",
      "    \"suifile\": \"data/piek.jpg\",\n",
      "    \"time_begin\": 1603139800,\n",
      "    \"time_end\": 1603149850,\n",
      "    \"box\": [\n",
      "        1,\n",
      "        18,\n",
      "        21,\n",
      "        18\n",
      "    ],\n",
      "    \"speaker\": {\n",
      "        \"url\": \"http://leolani.cltl.nl/people/piek\",\n",
      "        \"name\": \"piek\",\n",
      "        \"age\": \"59\",\n",
      "        \"gender\": \"male\"\n",
      "    },\n",
      "    \"emotion\": \"joy\"\n",
      "}\n"
     ]
    }
   ],
   "source": [
    "suifile = \"data/piek.jpg\"\n",
    "boxsegment = [1,18,21,18]\n",
    "speaker = Friend('piek', 59, 'male')\n",
    "emotion = 'joy'\n",
    "time_begin = 1603139800\n",
    "time_end =   1603149850\n",
    "image_anno = ImageAnnotation(signal, \n",
    "                             suifile, \n",
    "                             time_begin, \n",
    "                             time_end, \n",
    "                             boxsegment, \n",
    "                             speaker, \n",
    "                             emotion)\n",
    "\n",
    "print(json.dumps(image_anno, default=vars, indent=4))\n",
    "with open(\"data/imageanno1.json\", \"w\") as write_file:\n",
    "    json.dump(image_anno, write_file, default=vars, indent=4)"
   ]
  },
  {
   "cell_type": "markdown",
   "metadata": {},
   "source": [
    "Define the annotation that goes with a family picture"
   ]
  },
  {
   "cell_type": "code",
   "execution_count": 7,
   "metadata": {},
   "outputs": [
    {
     "name": "stdout",
     "output_type": "stream",
     "text": [
      "{\n",
      "    \"sui\": \"scene1\",\n",
      "    \"suifile\": \"data/pexels-victoria-borodinova-1648358.jpg\",\n",
      "    \"time_begin\": 1603139840,\n",
      "    \"time_end\": 1603149860,\n",
      "    \"box\": [\n",
      "        4,\n",
      "        8,\n",
      "        11,\n",
      "        8\n",
      "    ],\n",
      "    \"speaker\": null,\n",
      "    \"emotion\": \"joy\"\n",
      "}\n"
     ]
    }
   ],
   "source": [
    "suifile = \"data/pexels-victoria-borodinova-1648358.jpg\"\n",
    "boxsegment = [4,8,11,8]\n",
    "speaker = None\n",
    "emotion = 'joy'\n",
    "time_begin = 1603139840\n",
    "time_end =   1603149860\n",
    "image_anno = ImageAnnotation(signal.sui, \n",
    "                             suifile, \n",
    "                             time_begin, \n",
    "                             time_end, \n",
    "                             boxsegment, \n",
    "                             speaker, \n",
    "                             emotion)\n",
    "print(json.dumps(image_anno, default=vars, indent=4))\n",
    "with open(\"data/imageanno2.json\", \"w\") as write_file:\n",
    "    json.dump(image_anno, write_file, default=vars, indent=4)"
   ]
  },
  {
   "cell_type": "markdown",
   "metadata": {},
   "source": [
    "Annotation of the communication about the picture(s)"
   ]
  },
  {
   "cell_type": "code",
   "execution_count": 8,
   "metadata": {},
   "outputs": [
    {
     "name": "stdout",
     "output_type": "stream",
     "text": [
      "<generator object TreebankWordTokenizer.span_tokenize at 0x7f98b0f11ed0>\n",
      "(0, (0, 4), 'That')\n",
      "(1, (5, 7), 'is')\n",
      "(2, (8, 10), 'my')\n",
      "(3, (11, 18), 'brother')\n",
      "(4, (19, 22), 'Jim')\n"
     ]
    }
   ],
   "source": [
    "utterance = \"That is my brother Jim\"\n",
    "tokens = TreebankWordTokenizer().span_tokenize(utterance)\n",
    "print(tokens)\n",
    "token_tuples = []\n",
    "for index, token in enumerate(tokens):\n",
    "    phrase = utterance[token[0]:token[1]]\n",
    "    tokentuple = (index, token, phrase)\n",
    "    print(tokentuple)\n",
    "    token_tuples.append(tokentuple)"
   ]
  },
  {
   "cell_type": "code",
   "execution_count": 9,
   "metadata": {},
   "outputs": [
    {
     "name": "stdout",
     "output_type": "stream",
     "text": [
      "<generator object TreebankWordTokenizer.span_tokenize at 0x7f99210a9350>\n",
      "(0, (0, 4), 'That')\n",
      "(1, (5, 7), 'is')\n",
      "(2, (8, 10), 'my')\n",
      "(3, (11, 18), 'brother')\n",
      "(4, (19, 22), 'Jim')\n",
      "{\"sui\": \"scene1\", \"suifile\": \"\", \"time_begin\": 1603139850, \"time_end\": 1603149890, \"chat_id\": \"1\", \"utterance_id\": \"1\", \"utterance\": \"That is my brother Jim\", \"tokens\": [[0, [0, 4], \"That\"], [1, [5, 7], \"is\"], [2, [8, 10], \"my\"], [3, [11, 18], \"brother\"], [4, [19, 22], \"Jim\"]], \"speaker\": {\"url\": \"http://leolani.cltl.nl/people/piek\", \"name\": \"piek\", \"age\": \"59\", \"gender\": \"male\"}, \"emotion\": \"joy\", \"mentions\": [{\"token_id\": 4, \"offset\": [19, 22], \"phrase\": \"Jim\", \"referent\": {\"url\": \"http://leolani.cltl.nl/people/Jim\", \"name\": \"Jim\", \"age\": \"32\", \"gender\": \"male\"}}], \"triples\": [[\"brother-of\", {\"url\": \"http://leolani.cltl.nl/people/piek\", \"name\": \"piek\", \"age\": \"59\", \"gender\": \"male\"}, {\"url\": \"http://leolani.cltl.nl/people/Jim\", \"name\": \"Jim\", \"age\": \"32\", \"gender\": \"male\"}]]}\n"
     ]
    }
   ],
   "source": [
    "suifile=\"\"\n",
    "chat_id=\"1\"\n",
    "utterance_id = \"1\"\n",
    "utterance = \"That is my brother Jim\"\n",
    "speaker = Friend('piek', 59, 'male')\n",
    "tokens = TreebankWordTokenizer().span_tokenize(utterance)\n",
    "print(tokens)\n",
    "token_tuples = []\n",
    "for index, token in enumerate(tokens):\n",
    "    phrase = utterance[token[0]:token[1]]\n",
    "    tokentuple = (index, token, phrase)\n",
    "    print(tokentuple)\n",
    "    token_tuples.append(tokentuple)\n",
    "\n",
    "\n",
    "#referentImage = ()\n",
    "token_tuple = token_tuples[4]\n",
    "referentJim = Friend(token_tuple[2], 32, \"male\")\n",
    "mention = Mention(token_tuples[4], referentJim)\n",
    "mentions = []\n",
    "mentions.append(mention)\n",
    "#mention = Mention(token_tuple[0], token_tuple[1],  token_tuple[2], referentJim)\n",
    "\n",
    "triples =[]\n",
    "triple = (\"brother-of\", speaker, referentJim)\n",
    "triples.append(triple)\n",
    "\n",
    "\n",
    "\n",
    "time_begin = 1603139850\n",
    "time_end =   1603149890\n",
    "text_anno =  TextAnnotation(sui, \n",
    "                             suifile, \n",
    "                             time_begin, \n",
    "                             time_end,\n",
    "                             chat_id,\n",
    "                             utterance_id,\n",
    "                             utterance,\n",
    "                             token_tuples, \n",
    "                             speaker, \n",
    "                             emotion, \n",
    "                             mentions, \n",
    "                             triples)\n",
    "\n",
    "\n",
    "print(json.dumps(text_anno, default=vars))\n",
    "with open(\"data/textanno.json\", \"w\") as write_file:\n",
    "    json.dump(text_anno, write_file, default=vars, indent=4)"
   ]
  },
  {
   "cell_type": "code",
   "execution_count": null,
   "metadata": {},
   "outputs": [],
   "source": []
  },
  {
   "cell_type": "code",
   "execution_count": null,
   "metadata": {},
   "outputs": [],
   "source": []
  }
 ],
 "metadata": {
  "kernelspec": {
   "display_name": "Python 3",
   "language": "python",
   "name": "python3"
  },
  "language_info": {
   "codemirror_mode": {
    "name": "ipython",
    "version": 3
   },
   "file_extension": ".py",
   "mimetype": "text/x-python",
   "name": "python",
   "nbconvert_exporter": "python",
   "pygments_lexer": "ipython3",
   "version": "3.7.6"
  }
 },
 "nbformat": 4,
 "nbformat_minor": 4
}
