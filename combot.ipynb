{
 "cells": [
  {
   "cell_type": "code",
   "execution_count": 1,
   "metadata": {},
   "outputs": [],
   "source": [
    "import json\n",
    "from pprint import pprint\n",
    "from signal_meta_data import Signal, TextAnnotation, ImageAnnotation, friend\n",
    "from nltk.tokenize import TreebankWordTokenizer"
   ]
  },
  {
   "cell_type": "markdown",
   "metadata": {},
   "source": [
    "Define a scenario with multimodal input"
   ]
  },
  {
   "cell_type": "code",
   "execution_count": 7,
   "metadata": {},
   "outputs": [
    {
     "name": "stdout",
     "output_type": "stream",
     "text": [
      "{\n",
      "    \"sui\": \"scene1\",\n",
      "    \"modality\": \"jpg\",\n",
      "    \"time_begin\": 1603139705,\n",
      "    \"time_end\": 1603139705\n",
      "}\n"
     ]
    }
   ],
   "source": [
    "sui = \"scene1\"\n",
    "modality = \"jpg\"\n",
    "time_begin = 1603139705\n",
    "time_end = 1603139705\n",
    "signal = Signal(sui, modality, time_begin, time_end)\n",
    "print(json.dumps(signal, indent=4, default=vars))\n",
    "with open(\"data/suifile.json\", \"w\") as write_file:\n",
    "    json.dump(signal, write_file, indent=4, default=vars)"
   ]
  },
  {
   "cell_type": "markdown",
   "metadata": {},
   "source": [
    "Define the speaker and his/her emotion"
   ]
  },
  {
   "cell_type": "code",
   "execution_count": 8,
   "metadata": {},
   "outputs": [
    {
     "name": "stdout",
     "output_type": "stream",
     "text": [
      "{\n",
      "    \"sui\": {\n",
      "        \"sui\": \"scene1\",\n",
      "        \"modality\": \"jpg\",\n",
      "        \"time_begin\": 1603139705,\n",
      "        \"time_end\": 1603139705\n",
      "    },\n",
      "    \"suifile\": \"data/piek.jpg\",\n",
      "    \"time_begin\": 1603139705,\n",
      "    \"time_end\": 1603139705,\n",
      "    \"box\": [\n",
      "        1,\n",
      "        18,\n",
      "        21,\n",
      "        18\n",
      "    ],\n",
      "    \"speaker\": {\n",
      "        \"url\": \"http://leolani.cltl.nl/people/piek\",\n",
      "        \"name\": \"piek\",\n",
      "        \"age\": \"59\",\n",
      "        \"gender\": \"male\"\n",
      "    },\n",
      "    \"emotion\": \"joy\"\n",
      "}\n"
     ]
    }
   ],
   "source": [
    "suifile = \"data/piek.jpg\"\n",
    "boxsegment = [1,18,21,18]\n",
    "speaker = friend('piek', 59, 'male')\n",
    "emotion = 'joy'\n",
    "image_anno = ImageAnnotation(signal, \n",
    "                             suifile, \n",
    "                             time_begin, \n",
    "                             time_end, \n",
    "                             boxsegment, \n",
    "                             speaker, \n",
    "                             emotion)\n",
    "\n",
    "print(json.dumps(image_anno, default=vars, indent=4))\n",
    "with open(\"data/imageanno1.json\", \"w\") as write_file:\n",
    "    json.dump(image_anno, write_file, default=vars, indent=4)"
   ]
  },
  {
   "cell_type": "markdown",
   "metadata": {},
   "source": [
    "Define the annotation that goes with a family picture"
   ]
  },
  {
   "cell_type": "code",
   "execution_count": 9,
   "metadata": {},
   "outputs": [
    {
     "name": "stdout",
     "output_type": "stream",
     "text": [
      "{\n",
      "    \"sui\": \"scene1\",\n",
      "    \"suifile\": \"data/pexels-victoria-borodinova-1648358.jpg\",\n",
      "    \"time_begin\": 1603139705,\n",
      "    \"time_end\": 1603139705,\n",
      "    \"box\": [\n",
      "        4,\n",
      "        8,\n",
      "        11,\n",
      "        8\n",
      "    ],\n",
      "    \"speaker\": {\n",
      "        \"url\": \"http://leolani.cltl.nl/people/piek\",\n",
      "        \"name\": \"piek\",\n",
      "        \"age\": \"59\",\n",
      "        \"gender\": \"male\"\n",
      "    },\n",
      "    \"emotion\": \"joy\"\n",
      "}\n"
     ]
    }
   ],
   "source": [
    "suifile = \"data/pexels-victoria-borodinova-1648358.jpg\"\n",
    "boxsegment = [4,8,11,8]\n",
    "speaker = friend('piek', 59, 'male')\n",
    "emotion = 'joy'\n",
    "image_anno = ImageAnnotation(signal.sui, \n",
    "                             suifile, \n",
    "                             time_begin, \n",
    "                             time_end, \n",
    "                             boxsegment, \n",
    "                             speaker, \n",
    "                             emotion)\n",
    "print(json.dumps(image_anno, default=vars, indent=4))\n",
    "with open(\"data/imageanno2.json\", \"w\") as write_file:\n",
    "    json.dump(image_anno, write_file, default=vars, indent=4)"
   ]
  },
  {
   "cell_type": "markdown",
   "metadata": {},
   "source": [
    "Annotation of the communication about the picture(s)"
   ]
  },
  {
   "cell_type": "code",
   "execution_count": 10,
   "metadata": {},
   "outputs": [
    {
     "name": "stdout",
     "output_type": "stream",
     "text": [
      "{\"sui\": \"scene1\", \"suifile\": \"data/pexels-victoria-borodinova-1648358.jpg\", \"time_begin\": 1603139705, \"time_end\": 1603139705, \"utterance\": \"That is my brother Jim\", \"tokens\": [[[0, 4], 0], [[5, 7], 1], [[8, 10], 2], [[11, 18], 3], [[19, 22], 4]], \"speaker\": {\"url\": \"http://leolani.cltl.nl/people/piek\", \"name\": \"piek\", \"age\": \"59\", \"gender\": \"male\"}, \"emotion\": \"joy\", \"mention\": [19, \"brother\"], \"referent\": {\"url\": \"http://leolani.cltl.nl/people/John\", \"name\": \"John\", \"age\": \"32\", \"gender\": \"male\"}}\n"
     ]
    }
   ],
   "source": [
    "utterance = \"That is my brother Jim\"\n",
    "tokens = TreebankWordTokenizer().span_tokenize(utterance)\n",
    "token_tuples = []\n",
    "for token, index in enumerate(tokens):\n",
    "    tokentuple = (index, token)\n",
    "    token_tuples.append(tokentuple)\n",
    "mention = (tokentuple[0][0], \"brother\")\n",
    "referent = friend(\"John\", 32, \"male\")\n",
    "    \n",
    "text_anno =  TextAnnotation(signal.sui, \n",
    "                             suifile, \n",
    "                             time_begin, \n",
    "                             time_end,\n",
    "                             utterance,\n",
    "                             token_tuples, \n",
    "                             speaker, \n",
    "                             emotion, \n",
    "                             mention, \n",
    "                             referent)\n",
    "\n",
    "print(json.dumps(text_anno, default=vars))\n",
    "with open(\"data/textanno.json\", \"w\") as write_file:\n",
    "    json.dump(text_anno, write_file, default=vars, indent=4)"
   ]
  },
  {
   "cell_type": "code",
   "execution_count": null,
   "metadata": {},
   "outputs": [],
   "source": []
  },
  {
   "cell_type": "code",
   "execution_count": null,
   "metadata": {},
   "outputs": [],
   "source": []
  },
  {
   "cell_type": "code",
   "execution_count": null,
   "metadata": {},
   "outputs": [],
   "source": []
  }
 ],
 "metadata": {
  "kernelspec": {
   "display_name": "Python 3",
   "language": "python",
   "name": "python3"
  },
  "language_info": {
   "codemirror_mode": {
    "name": "ipython",
    "version": 3
   },
   "file_extension": ".py",
   "mimetype": "text/x-python",
   "name": "python",
   "nbconvert_exporter": "python",
   "pygments_lexer": "ipython3",
   "version": "3.7.7"
  }
 },
 "nbformat": 4,
 "nbformat_minor": 4
}
