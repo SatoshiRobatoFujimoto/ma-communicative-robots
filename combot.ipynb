{
 "cells": [
  {
   "cell_type": "code",
   "execution_count": 1,
   "metadata": {},
   "outputs": [],
   "source": [
    "import json\n",
    "from signal_meta_data import Friend, Gender, Emotion, Triple, Mention\n",
    "from signal_meta_data import BoundingBoxSegment, TimeSegment\n",
    "from signal_meta_data import SpeakerAnnotation, UtteranceAnnotation, TripleAnnotation\n",
    "from signal_meta_data import ImageSignal, TextSignal\n",
    "from signal_meta_data import serializer\n",
    "from nltk.tokenize import TreebankWordTokenizer"
   ]
  },
  {
   "cell_type": "markdown",
   "metadata": {},
   "source": [
    "Define a time segments for the signals."
   ]
  },
  {
   "cell_type": "code",
   "execution_count": 2,
   "metadata": {},
   "outputs": [],
   "source": [
    "speaker_img_time = TimeSegment(1603139705, 1603140000)\n",
    "family_img_time = TimeSegment(1603139840, 1603149860)\n",
    "utterance_time = TimeSegment(1603139850, 1603149890)"
   ]
  },
  {
   "cell_type": "markdown",
   "metadata": {},
   "source": [
    "Define the speaker and his/her emotion."
   ]
  },
  {
   "cell_type": "code",
   "execution_count": 3,
   "metadata": {},
   "outputs": [
    {
     "name": "stdout",
     "output_type": "stream",
     "text": [
      "{\n",
      "    \"id\": \"36aec105-81cf-443b-929a-80d1ed84d66d\",\n",
      "    \"modality\": \"IMAGE\",\n",
      "    \"time\": {\n",
      "        \"end\": 1603140000,\n",
      "        \"start\": 1603139705\n",
      "    },\n",
      "    \"files\": [\n",
      "        \"data/piek.jpg\"\n",
      "    ],\n",
      "    \"speaker\": {\n",
      "        \"speaker\": {\n",
      "            \"id\": \"60530755-c2b6-4b5e-8773-e71b8d3c5fa8\",\n",
      "            \"name\": \"Piek\",\n",
      "            \"age\": 59,\n",
      "            \"gender\": \"MALE\",\n",
      "            \"emotion\": \"JOY\"\n",
      "        },\n",
      "        \"segment\": {\n",
      "            \"bounding_box\": [\n",
      "                10,\n",
      "                15,\n",
      "                521,\n",
      "                518\n",
      "            ]\n",
      "        }\n",
      "    },\n",
      "    \"emotion\": \"HAPPINESS\"\n",
      "}\n"
     ]
    }
   ],
   "source": [
    "img_file_1 = \"data/piek.jpg\"\n",
    "\n",
    "piek = Friend(None, \"Piek\", 59, Gender.MALE, Emotion.JOY)\n",
    "bounding_box_piek = BoundingBoxSegment(10,15,521,518)\n",
    "speaker = SpeakerAnnotation(piek, bounding_box_piek)\n",
    "\n",
    "image_signal = ImageSignal(None, speaker_img_time, [img_file_1], Emotion.HAPPINESS, speaker)\n",
    "print(json.dumps(image_signal, default=serializer, indent=4))"
   ]
  },
  {
   "cell_type": "markdown",
   "metadata": {},
   "source": [
    "Define the annotation that goes with a family picture"
   ]
  },
  {
   "cell_type": "code",
   "execution_count": 4,
   "metadata": {},
   "outputs": [
    {
     "name": "stdout",
     "output_type": "stream",
     "text": [
      "{\n",
      "    \"id\": \"0b03ab11-bd84-424d-8016-d4b81b3eddc7\",\n",
      "    \"modality\": \"IMAGE\",\n",
      "    \"time\": {\n",
      "        \"end\": 1603149860,\n",
      "        \"start\": 1603139840\n",
      "    },\n",
      "    \"files\": [\n",
      "        \"data/pexels-victoria-borodinova-1648358.jpg\"\n",
      "    ],\n",
      "    \"speaker\": null,\n",
      "    \"emotion\": \"HAPPINESS\"\n",
      "}\n"
     ]
    }
   ],
   "source": [
    "image_file = \"data/pexels-victoria-borodinova-1648358.jpg\"\n",
    "\n",
    "image_signal = ImageSignal(None, family_img_time, [image_file], Emotion.HAPPINESS, None)\n",
    "\n",
    "print(json.dumps(image_signal, default=serializer, indent=4))"
   ]
  },
  {
   "cell_type": "markdown",
   "metadata": {},
   "source": [
    "Annotation of the communication about the picture(s)"
   ]
  },
  {
   "cell_type": "code",
   "execution_count": 5,
   "metadata": {},
   "outputs": [
    {
     "name": "stdout",
     "output_type": "stream",
     "text": [
      "[(0, ((0, 4), 'That')), (1, ((5, 7), 'is')), (2, ((8, 10), 'my')), (3, ((11, 18), 'brother')), (4, ((19, 22), 'Jim'))]\n"
     ]
    }
   ],
   "source": [
    "def tokenize(text):\n",
    "    offsets = tuple(TreebankWordTokenizer().span_tokenize(text))\n",
    "    \n",
    "    return tuple(((start, end), text[start:end]) for start, end in offsets)\n",
    "    \n",
    "print([t for t in enumerate(tokenize(\"That is my brother Jim\"))])\n"
   ]
  },
  {
   "cell_type": "code",
   "execution_count": 6,
   "metadata": {},
   "outputs": [
    {
     "name": "stdout",
     "output_type": "stream",
     "text": [
      "{\n",
      "    \"id\": \"aa83f795-a8ef-448d-b082-e761d91c755d\",\n",
      "    \"modality\": \"TEXT\",\n",
      "    \"time\": {\n",
      "        \"end\": 1603149890,\n",
      "        \"start\": 1603139850\n",
      "    },\n",
      "    \"files\": [\n",
      "        \"utterance_1.txt\"\n",
      "    ],\n",
      "    \"utterances\": [\n",
      "        {\n",
      "            \"chat_id\": \"4f10bd7c-b281-4f51-a3a5-6ed0e9eeefe9\",\n",
      "            \"utterance_id\": \"92c66502-a95e-47ad-9f2a-d8596b22ead8\",\n",
      "            \"utterance\": \"That is my brother Jim\",\n",
      "            \"tokens\": [\n",
      "                [\n",
      "                    [\n",
      "                        0,\n",
      "                        4\n",
      "                    ],\n",
      "                    \"That\"\n",
      "                ],\n",
      "                [\n",
      "                    [\n",
      "                        5,\n",
      "                        7\n",
      "                    ],\n",
      "                    \"is\"\n",
      "                ],\n",
      "                [\n",
      "                    [\n",
      "                        8,\n",
      "                        10\n",
      "                    ],\n",
      "                    \"my\"\n",
      "                ],\n",
      "                [\n",
      "                    [\n",
      "                        11,\n",
      "                        18\n",
      "                    ],\n",
      "                    \"brother\"\n",
      "                ],\n",
      "                [\n",
      "                    [\n",
      "                        19,\n",
      "                        22\n",
      "                    ],\n",
      "                    \"Jim\"\n",
      "                ]\n",
      "            ],\n",
      "            \"speaker\": {\n",
      "                \"speaker\": {\n",
      "                    \"id\": \"60530755-c2b6-4b5e-8773-e71b8d3c5fa8\",\n",
      "                    \"name\": \"Piek\",\n",
      "                    \"age\": 59,\n",
      "                    \"gender\": \"MALE\",\n",
      "                    \"emotion\": \"JOY\"\n",
      "                },\n",
      "                \"segment\": {\n",
      "                    \"offset\": [\n",
      "                        0,\n",
      "                        5\n",
      "                    ]\n",
      "                }\n",
      "            },\n",
      "            \"mentions\": [\n",
      "                {\n",
      "                    \"token_offset\": null,\n",
      "                    \"phrase\": [\n",
      "                        [\n",
      "                            19,\n",
      "                            22\n",
      "                        ],\n",
      "                        \"Jim\"\n",
      "                    ],\n",
      "                    \"referent\": {\n",
      "                        \"id\": \"fbaa8f7d-72f0-4c60-9ce7-6e3ff68b82d2\",\n",
      "                        \"name\": \"Jim\",\n",
      "                        \"age\": 32,\n",
      "                        \"gender\": \"MALE\",\n",
      "                        \"emotion\": null\n",
      "                    }\n",
      "                }\n",
      "            ],\n",
      "            \"emotion\": \"JOY\"\n",
      "        }\n",
      "    ],\n",
      "    \"triples\": {\n",
      "        \"triples\": [\n",
      "            {\n",
      "                \"subject\": {\n",
      "                    \"id\": \"http://cltl.nl/leolani/friends/\",\n",
      "                    \"type\": \"FRIEND\"\n",
      "                },\n",
      "                \"predicate\": \"http://cltl.nl/combot/predicate/brother-of\",\n",
      "                \"object\": {\n",
      "                    \"id\": \"http://cltl.nl/leolani/friends/\",\n",
      "                    \"type\": \"FRIEND\"\n",
      "                }\n",
      "            }\n",
      "        ]\n",
      "    }\n",
      "}\n"
     ]
    }
   ],
   "source": [
    "speaker = piek\n",
    "\n",
    "utterance = \"That is my brother Jim\"\n",
    "tokens = tokenize(utterance)\n",
    "\n",
    "#referentImage = ()\n",
    "token = tokens[4]\n",
    "referent_jim = Friend(None, token[1], 32, Gender.MALE, None)\n",
    "\n",
    "utterance_annotation = UtteranceAnnotation(None, None, utterance, tokens, piek,\n",
    "                                           Emotion.JOY, [Mention(None, tokens[4], referent_jim)])\n",
    "\n",
    "triples = TripleAnnotation((Triple.from_friends(speaker.id, \"brother-of\", referent_jim.id),))\n",
    "\n",
    "text_signal =  TextSignal(None, utterance_time, ['utterance_1.txt'], [utterance_annotation], triples)\n",
    "\n",
    "\n",
    "print(json.dumps(text_signal, default=serializer, indent=4))"
   ]
  }
 ],
 "metadata": {
  "kernelspec": {
   "display_name": "Python 3",
   "language": "python",
   "name": "python3"
  },
  "language_info": {
   "codemirror_mode": {
    "name": "ipython",
    "version": 3
   },
   "file_extension": ".py",
   "mimetype": "text/x-python",
   "name": "python",
   "nbconvert_exporter": "python",
   "pygments_lexer": "ipython3",
   "version": "3.7.7"
  }
 },
 "nbformat": 4,
 "nbformat_minor": 4
}
