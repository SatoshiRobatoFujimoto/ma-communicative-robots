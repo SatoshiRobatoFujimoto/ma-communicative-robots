{
 "cells": [
  {
   "cell_type": "code",
   "execution_count": 1,
   "metadata": {},
   "outputs": [],
   "source": [
    "from pprint import pprint\n",
    "\n",
    "import os\n",
    "import json\n",
    "import uuid\n",
    "\n",
    "from nltk.tokenize import TreebankWordTokenizer\n",
    "\n",
    "from signal_meta_data import Friend, Gender, Emotion, Triple, Mention, Modality\n",
    "from signal_meta_data import OffsetSegment, BoundingBoxSegment, TimeSegment\n",
    "from signal_meta_data import Scenario, ScenarioContext\n",
    "from signal_meta_data import ImageSignal, TextSignal\n",
    "from signal_meta_data import SpeakerAnnotation, UtteranceAnnotation\n",
    "from signal_meta_data import append_signal, serializer"
   ]
  },
  {
   "cell_type": "markdown",
   "metadata": {},
   "source": [
    "Define a time segments for the signals."
   ]
  },
  {
   "cell_type": "code",
   "execution_count": 2,
   "metadata": {},
   "outputs": [],
   "source": [
    "def scenario_data_path(scenario_id, file_name, modality=None, data_dir=\"data/test-scenes\"):\n",
    "    path = os.path.join(data_dir, str(scenario_id))\n",
    "    if modality:\n",
    "        path = os.path.join(path, modality.name.lower())\n",
    "    \n",
    "    return os.path.join(path, file_name)\n",
    "\n",
    "def clean(scenario_id, data_dir=\"data/test-scenes\"):\n",
    "    # clean data\n",
    "    path = scenario_data_path(scenario_id, \"\", data_dir=data_dir)\n",
    "    json_files = (os.path.join(root, file)\n",
    "             for root, _, files in os.walk(path)\n",
    "             for file in files if file.endswith(\".json\"))\n",
    "\n",
    "    for file in json_files:\n",
    "        try:\n",
    "            os.remove(file)\n",
    "            print(\"Cleaned\", file)\n",
    "        except OSError:\n",
    "            pass\n"
   ]
  },
  {
   "cell_type": "code",
   "execution_count": 3,
   "metadata": {},
   "outputs": [
    {
     "name": "stdout",
     "output_type": "stream",
     "text": [
      "Cleaned data/test-scenes/test_scenario/test_scenario.json\n",
      "Cleaned data/test-scenes/test_scenario/image.json\n",
      "Cleaned data/test-scenes/test_scenario/text.json\n",
      "{\n",
      "    \"id\": \"test_scenario\",\n",
      "    \"time\": {\n",
      "        \"end\": 1603150000,\n",
      "        \"start\": 1603139000\n",
      "    },\n",
      "    \"context\": {\n",
      "        \"agent\": \"leolani\",\n",
      "        \"speaker\": {\n",
      "            \"id\": \"c7fafc95-08a6-464b-9d10-4399b2b4f21e\",\n",
      "            \"name\": \"Piek\",\n",
      "            \"age\": 59,\n",
      "            \"gender\": \"MALE\",\n",
      "            \"emotion\": null\n",
      "        },\n",
      "        \"persons\": [],\n",
      "        \"objects\": []\n",
      "    },\n",
      "    \"signals\": {\n",
      "        \"image\": \"data/test-scenes/test_scenario/image.json\",\n",
      "        \"text\": \"data/test-scenes/test_scenario/text.json\"\n",
      "    }\n",
      "}\n"
     ]
    }
   ],
   "source": [
    "scenario_id = \"test_scenario\"\n",
    "clean(scenario_id)\n",
    "scenario_time = TimeSegment(1603139000, 1603150000)\n",
    "\n",
    "piek = Friend(None, \"Piek\", 59, Gender.MALE, None)\n",
    "context = ScenarioContext(\"leolani\", piek, [], [])\n",
    "signals = {\n",
    "    Modality.IMAGE.name.lower(): scenario_data_path(scenario_id, Modality.IMAGE.name.lower() + \".json\"),\n",
    "    Modality.TEXT.name.lower(): scenario_data_path(scenario_id, Modality.TEXT.name.lower() + \".json\")\n",
    "}\n",
    "scenario = Scenario(scenario_id, scenario_time, context, signals)\n",
    "\n",
    "print(json.dumps(scenario, default=serializer, indent=4))\n",
    "\n",
    "scenario_path = scenario_data_path(scenario_id, str(scenario_id) + \".json\")\n",
    "os.makedirs(os.path.dirname(scenario_path), exist_ok=True)\n",
    "with open(scenario_path, 'w') as scenario_file:\n",
    "    json.dump(scenario, scenario_file, default=serializer, indent=4)\n"
   ]
  },
  {
   "cell_type": "markdown",
   "metadata": {},
   "source": [
    "Define the speaker and his/her emotion."
   ]
  },
  {
   "cell_type": "code",
   "execution_count": 4,
   "metadata": {},
   "outputs": [
    {
     "name": "stdout",
     "output_type": "stream",
     "text": [
      "{\n",
      "    \"id\": \"a29f87b6-56c9-4f12-a1da-211ab7f068e9\",\n",
      "    \"modality\": \"IMAGE\",\n",
      "    \"time\": {\n",
      "        \"end\": 1603140000,\n",
      "        \"start\": 1603139705\n",
      "    },\n",
      "    \"files\": [\n",
      "        \"data/test-scenes/test_scenario/image/piek-1.jpg\"\n",
      "    ],\n",
      "    \"speaker\": {\n",
      "        \"person\": {\n",
      "            \"id\": \"34babd2e-411f-4938-b9ba-329daede0395\",\n",
      "            \"name\": \"Piek\",\n",
      "            \"age\": 59,\n",
      "            \"gender\": \"MALE\",\n",
      "            \"emotion\": \"JOY\"\n",
      "        },\n",
      "        \"segment\": {\n",
      "            \"bounding_box\": [\n",
      "                10,\n",
      "                15,\n",
      "                521,\n",
      "                518\n",
      "            ]\n",
      "        }\n",
      "    },\n",
      "    \"emotion\": \"HAPPINESS\"\n",
      "}\n"
     ]
    }
   ],
   "source": [
    "speaker_img_file = scenario_data_path(scenario_id, \"piek-1.jpg\", Modality.IMAGE)\n",
    "speaker_img_time = TimeSegment(1603139705, 1603140000)\n",
    "\n",
    "piek = Friend(None, \"Piek\", 59, Gender.MALE, Emotion.JOY)\n",
    "bounding_box_piek = BoundingBoxSegment(10,15,521,518)\n",
    "speaker = SpeakerAnnotation(piek, bounding_box_piek)\n",
    "\n",
    "speaker_img_signal = ImageSignal(None, speaker_img_time, [speaker_img_file], Emotion.HAPPINESS, speaker)\n",
    "print(json.dumps(speaker_img_signal, default=serializer, indent=4))\n",
    "append_signal(scenario.signals[Modality.IMAGE.name.lower()], speaker_img_signal)"
   ]
  },
  {
   "cell_type": "markdown",
   "metadata": {},
   "source": [
    "Define the annotation that goes with a family picture"
   ]
  },
  {
   "cell_type": "code",
   "execution_count": 5,
   "metadata": {},
   "outputs": [
    {
     "name": "stdout",
     "output_type": "stream",
     "text": [
      "{\n",
      "    \"id\": \"a941e0d0-b028-40b7-80bf-fdd40646f74f\",\n",
      "    \"modality\": \"IMAGE\",\n",
      "    \"time\": {\n",
      "        \"end\": 1603149860,\n",
      "        \"start\": 1603139840\n",
      "    },\n",
      "    \"files\": [\n",
      "        \"data/test-scenes/test_scenario/image/pexels-victoria-borodinova-1648358.jpg\"\n",
      "    ],\n",
      "    \"speaker\": null,\n",
      "    \"emotion\": \"HAPPINESS\"\n",
      "}\n"
     ]
    }
   ],
   "source": [
    "family_img_file = scenario_data_path(scenario_id, \"pexels-victoria-borodinova-1648358.jpg\", Modality.IMAGE)\n",
    "family_img_time = TimeSegment(1603139840, 1603149860)\n",
    "\n",
    "family_img_signal = ImageSignal(None, family_img_time, [family_img_file], Emotion.HAPPINESS, None)\n",
    "\n",
    "print(json.dumps(family_img_signal, default=serializer, indent=4))\n",
    "append_signal(scenario.signals[Modality.IMAGE.name.lower()], family_img_signal)"
   ]
  },
  {
   "cell_type": "markdown",
   "metadata": {},
   "source": [
    "Annotation of the communication about the picture(s)"
   ]
  },
  {
   "cell_type": "code",
   "execution_count": 6,
   "metadata": {},
   "outputs": [
    {
     "name": "stdout",
     "output_type": "stream",
     "text": [
      "[(0, ((0, 4), 'That')),\n",
      " (1, ((5, 7), 'is')),\n",
      " (2, ((8, 10), 'my')),\n",
      " (3, ((11, 18), 'brother')),\n",
      " (4, ((19, 22), 'Jim'))]\n"
     ]
    }
   ],
   "source": [
    "def tokenize(text):\n",
    "    offsets = tuple(TreebankWordTokenizer().span_tokenize(text))\n",
    "    \n",
    "    return tuple(((start, end), text[start:end]) for start, end in offsets)\n",
    "    \n",
    "pprint([t for t in enumerate(tokenize(\"That is my brother Jim\"))])"
   ]
  },
  {
   "cell_type": "code",
   "execution_count": 7,
   "metadata": {},
   "outputs": [
    {
     "name": "stdout",
     "output_type": "stream",
     "text": [
      "{\n",
      "    \"id\": \"e76d60fe-e9f0-454e-bdbb-f3fdeda65d6b\",\n",
      "    \"modality\": \"TEXT\",\n",
      "    \"time\": {\n",
      "        \"end\": 1603149890,\n",
      "        \"start\": 1603139850\n",
      "    },\n",
      "    \"files\": [\n",
      "        \"data/test-scenes/test_scenario/text/chat1_utterance1.txt\"\n",
      "    ],\n",
      "    \"utterances\": [\n",
      "        {\n",
      "            \"chat_id\": \"f767b44c-a634-40c1-a31c-cc9c984e3bca\",\n",
      "            \"utterance_id\": \"1893ca16-c9fd-4bc4-8a53-5601a4b13c4e\",\n",
      "            \"utterance\": \"That is my brother Jim\",\n",
      "            \"tokens\": [\n",
      "                [\n",
      "                    [\n",
      "                        0,\n",
      "                        4\n",
      "                    ],\n",
      "                    \"That\"\n",
      "                ],\n",
      "                [\n",
      "                    [\n",
      "                        5,\n",
      "                        7\n",
      "                    ],\n",
      "                    \"is\"\n",
      "                ],\n",
      "                [\n",
      "                    [\n",
      "                        8,\n",
      "                        10\n",
      "                    ],\n",
      "                    \"my\"\n",
      "                ],\n",
      "                [\n",
      "                    [\n",
      "                        11,\n",
      "                        18\n",
      "                    ],\n",
      "                    \"brother\"\n",
      "                ],\n",
      "                [\n",
      "                    [\n",
      "                        19,\n",
      "                        22\n",
      "                    ],\n",
      "                    \"Jim\"\n",
      "                ]\n",
      "            ],\n",
      "            \"speaker\": {\n",
      "                \"person\": {\n",
      "                    \"id\": \"34babd2e-411f-4938-b9ba-329daede0395\",\n",
      "                    \"name\": \"Piek\",\n",
      "                    \"age\": 59,\n",
      "                    \"gender\": \"MALE\",\n",
      "                    \"emotion\": \"JOY\"\n",
      "                },\n",
      "                \"segment\": {\n",
      "                    \"offset\": [\n",
      "                        0,\n",
      "                        5\n",
      "                    ]\n",
      "                }\n",
      "            },\n",
      "            \"mentions\": [\n",
      "                {\n",
      "                    \"token_offset\": {\n",
      "                        \"offset\": [\n",
      "                            4,\n",
      "                            5\n",
      "                        ]\n",
      "                    },\n",
      "                    \"phrase\": [\n",
      "                        [\n",
      "                            19,\n",
      "                            22\n",
      "                        ],\n",
      "                        \"Jim\"\n",
      "                    ],\n",
      "                    \"referent\": {\n",
      "                        \"id\": \"4fd38435-a9f9-4a26-917a-b5002cfa24b0\",\n",
      "                        \"name\": \"Jim\",\n",
      "                        \"age\": 32,\n",
      "                        \"gender\": \"MALE\",\n",
      "                        \"emotion\": null\n",
      "                    }\n",
      "                }\n",
      "            ],\n",
      "            \"emotion\": \"JOY\"\n",
      "        }\n",
      "    ],\n",
      "    \"triples\": [\n",
      "        {\n",
      "            \"subject\": {\n",
      "                \"id\": \"http://cltl.nl/leolani/friends/\",\n",
      "                \"type\": \"FRIEND\"\n",
      "            },\n",
      "            \"predicate\": \"http://cltl.nl/combot/predicate/brother-of\",\n",
      "            \"object\": {\n",
      "                \"id\": \"http://cltl.nl/leolani/friends/\",\n",
      "                \"type\": \"FRIEND\"\n",
      "            }\n",
      "        }\n",
      "    ]\n",
      "}\n"
     ]
    }
   ],
   "source": [
    "speaker = piek\n",
    "utterance_time = TimeSegment(1603139850, 1603149890)\n",
    "\n",
    "transcript = scenario_data_path(scenario_id, \"chat1_utterance1.txt\", Modality.TEXT)\n",
    "utterance = \"That is my brother Jim\"\n",
    "tokens = tokenize(utterance)\n",
    "\n",
    "#referentImage = ()\n",
    "token = tokens[4]\n",
    "referent_jim = Friend(None, token[1], 32, Gender.MALE, None)\n",
    "mention = Mention(OffsetSegment(4,5), tokens[4], referent_jim)\n",
    "\n",
    "utterance_annotation = UtteranceAnnotation(None, None, utterance, tokens, piek,\n",
    "                                           Emotion.JOY, [mention])\n",
    "\n",
    "triples = (Triple.from_friends(speaker.id, \"brother-of\", referent_jim.id),)\n",
    "\n",
    "text_signal =  TextSignal(None, utterance_time, [transcript], [utterance_annotation], triples)\n",
    "\n",
    "print(json.dumps(text_signal, default=serializer, indent=4))\n",
    "append_signal(scenario.signals[Modality.TEXT.name.lower()], text_signal)"
   ]
  },
  {
   "cell_type": "code",
   "execution_count": 8,
   "metadata": {},
   "outputs": [],
   "source": [
    "for signal_file in scenario.signals.values():\n",
    "    append_signal(signal_file, None, terminate=True)"
   ]
  },
  {
   "cell_type": "code",
   "execution_count": null,
   "metadata": {},
   "outputs": [],
   "source": []
  }
 ],
 "metadata": {
  "kernelspec": {
   "display_name": "Python 3",
   "language": "python",
   "name": "python3"
  },
  "language_info": {
   "codemirror_mode": {
    "name": "ipython",
    "version": 3
   },
   "file_extension": ".py",
   "mimetype": "text/x-python",
   "name": "python",
   "nbconvert_exporter": "python",
   "pygments_lexer": "ipython3",
   "version": "3.7.7"
  }
 },
 "nbformat": 4,
 "nbformat_minor": 4
}
