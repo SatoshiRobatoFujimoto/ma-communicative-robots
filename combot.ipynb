{
 "cells": [
  {
   "cell_type": "code",
   "execution_count": 2,
   "metadata": {},
   "outputs": [],
   "source": [
    "import json\n",
    "from signal_meta_data import Friend, Gender, Emotion, Triple, Mention\n",
    "from signal_meta_data import OffsetSegment, BoundingBoxSegment, TimeSegment\n",
    "from signal_meta_data import SpeakerAnnotation, UtteranceAnnotation\n",
    "from signal_meta_data import ImageSignal, TextSignal\n",
    "from signal_meta_data import serializer\n",
    "from nltk.tokenize import TreebankWordTokenizer"
   ]
  },
  {
   "cell_type": "markdown",
   "metadata": {},
   "source": [
    "Define a time segments for the signals."
   ]
  },
  {
   "cell_type": "code",
   "execution_count": 3,
   "metadata": {},
   "outputs": [],
   "source": [
    "speaker_img_time = TimeSegment(1603139705, 1603140000)\n",
    "family_img_time = TimeSegment(1603139840, 1603149860)\n",
    "utterance_time = TimeSegment(1603139850, 1603149890)"
   ]
  },
  {
   "cell_type": "markdown",
   "metadata": {},
   "source": [
    "Define the speaker and his/her emotion."
   ]
  },
  {
   "cell_type": "code",
   "execution_count": 4,
   "metadata": {},
   "outputs": [
    {
     "name": "stdout",
     "output_type": "stream",
     "text": [
      "{\n",
      "    \"id\": \"07740454-51c7-4ade-944a-f089c861fdf1\",\n",
      "    \"modality\": \"IMAGE\",\n",
      "    \"time\": {\n",
      "        \"end\": 1603140000,\n",
      "        \"start\": 1603139705\n",
      "    },\n",
      "    \"files\": [\n",
      "        \"data/piek.jpg\"\n",
      "    ],\n",
      "    \"speaker\": {\n",
      "        \"person\": {\n",
      "            \"id\": \"3307f824-4509-4aff-9870-6476b3174d60\",\n",
      "            \"name\": \"Piek\",\n",
      "            \"age\": 59,\n",
      "            \"gender\": \"MALE\",\n",
      "            \"emotion\": \"JOY\"\n",
      "        },\n",
      "        \"segment\": {\n",
      "            \"bounding_box\": [\n",
      "                10,\n",
      "                15,\n",
      "                521,\n",
      "                518\n",
      "            ]\n",
      "        }\n",
      "    },\n",
      "    \"emotion\": \"HAPPINESS\"\n",
      "}\n"
     ]
    }
   ],
   "source": [
    "img_file_1 = \"data/piek.jpg\"\n",
    "\n",
    "piek = Friend(None, \"Piek\", 59, Gender.MALE, Emotion.JOY)\n",
    "bounding_box_piek = BoundingBoxSegment(10,15,521,518)\n",
    "speaker = SpeakerAnnotation(piek, bounding_box_piek)\n",
    "\n",
    "image_signal = ImageSignal(None, speaker_img_time, [img_file_1], Emotion.HAPPINESS, speaker)\n",
    "print(json.dumps(image_signal, default=serializer, indent=4))"
   ]
  },
  {
   "cell_type": "markdown",
   "metadata": {},
   "source": [
    "Define the annotation that goes with a family picture"
   ]
  },
  {
   "cell_type": "code",
   "execution_count": 5,
   "metadata": {},
   "outputs": [
    {
     "name": "stdout",
     "output_type": "stream",
     "text": [
      "{\n",
      "    \"id\": \"e493a174-7b7e-43a3-b03f-11a269684b71\",\n",
      "    \"modality\": \"IMAGE\",\n",
      "    \"time\": {\n",
      "        \"end\": 1603149860,\n",
      "        \"start\": 1603139840\n",
      "    },\n",
      "    \"files\": [\n",
      "        \"data/pexels-victoria-borodinova-1648358.jpg\"\n",
      "    ],\n",
      "    \"speaker\": null,\n",
      "    \"emotion\": \"HAPPINESS\"\n",
      "}\n"
     ]
    }
   ],
   "source": [
    "image_file = \"data/pexels-victoria-borodinova-1648358.jpg\"\n",
    "\n",
    "image_signal = ImageSignal(None, family_img_time, [image_file], Emotion.HAPPINESS, None)\n",
    "\n",
    "print(json.dumps(image_signal, default=serializer, indent=4))"
   ]
  },
  {
   "cell_type": "markdown",
   "metadata": {},
   "source": [
    "Annotation of the communication about the picture(s)"
   ]
  },
  {
   "cell_type": "code",
   "execution_count": 6,
   "metadata": {},
   "outputs": [
    {
     "name": "stdout",
     "output_type": "stream",
     "text": [
      "[(0, ((0, 4), 'That')), (1, ((5, 7), 'is')), (2, ((8, 10), 'my')), (3, ((11, 18), 'brother')), (4, ((19, 22), 'Jim'))]\n"
     ]
    }
   ],
   "source": [
    "def tokenize(text):\n",
    "    offsets = tuple(TreebankWordTokenizer().span_tokenize(text))\n",
    "    \n",
    "    return tuple(((start, end), text[start:end]) for start, end in offsets)\n",
    "    \n",
    "print([t for t in enumerate(tokenize(\"That is my brother Jim\"))])\n"
   ]
  },
  {
   "cell_type": "code",
   "execution_count": 7,
   "metadata": {},
   "outputs": [
    {
     "name": "stdout",
     "output_type": "stream",
     "text": [
      "{\n",
      "    \"id\": \"a320adda-7c21-405f-b36a-ed21e30ec1d4\",\n",
      "    \"modality\": \"TEXT\",\n",
      "    \"time\": {\n",
      "        \"end\": 1603149890,\n",
      "        \"start\": 1603139850\n",
      "    },\n",
      "    \"files\": [\n",
      "        \"utterance_1.txt\"\n",
      "    ],\n",
      "    \"utterances\": [\n",
      "        {\n",
      "            \"chat_id\": \"685f6f09-0261-4e43-8f28-290cc7c97e44\",\n",
      "            \"utterance_id\": \"a6c546ef-e5f9-4f86-ad55-020ec5bd34ee\",\n",
      "            \"utterance\": \"That is my brother Jim\",\n",
      "            \"tokens\": [\n",
      "                [\n",
      "                    [\n",
      "                        0,\n",
      "                        4\n",
      "                    ],\n",
      "                    \"That\"\n",
      "                ],\n",
      "                [\n",
      "                    [\n",
      "                        5,\n",
      "                        7\n",
      "                    ],\n",
      "                    \"is\"\n",
      "                ],\n",
      "                [\n",
      "                    [\n",
      "                        8,\n",
      "                        10\n",
      "                    ],\n",
      "                    \"my\"\n",
      "                ],\n",
      "                [\n",
      "                    [\n",
      "                        11,\n",
      "                        18\n",
      "                    ],\n",
      "                    \"brother\"\n",
      "                ],\n",
      "                [\n",
      "                    [\n",
      "                        19,\n",
      "                        22\n",
      "                    ],\n",
      "                    \"Jim\"\n",
      "                ]\n",
      "            ],\n",
      "            \"speaker\": {\n",
      "                \"person\": {\n",
      "                    \"id\": \"3307f824-4509-4aff-9870-6476b3174d60\",\n",
      "                    \"name\": \"Piek\",\n",
      "                    \"age\": 59,\n",
      "                    \"gender\": \"MALE\",\n",
      "                    \"emotion\": \"JOY\"\n",
      "                },\n",
      "                \"segment\": {\n",
      "                    \"offset\": [\n",
      "                        0,\n",
      "                        5\n",
      "                    ]\n",
      "                }\n",
      "            },\n",
      "            \"mentions\": [\n",
      "                {\n",
      "                    \"token_offset\": {\n",
      "                        \"offset\": [\n",
      "                            4,\n",
      "                            5\n",
      "                        ]\n",
      "                    },\n",
      "                    \"phrase\": [\n",
      "                        [\n",
      "                            19,\n",
      "                            22\n",
      "                        ],\n",
      "                        \"Jim\"\n",
      "                    ],\n",
      "                    \"referent\": {\n",
      "                        \"id\": \"b0a60e51-84f2-44d8-bdb3-4b488e748b2e\",\n",
      "                        \"name\": \"Jim\",\n",
      "                        \"age\": 32,\n",
      "                        \"gender\": \"MALE\",\n",
      "                        \"emotion\": null\n",
      "                    }\n",
      "                }\n",
      "            ],\n",
      "            \"emotion\": \"JOY\"\n",
      "        }\n",
      "    ],\n",
      "    \"triples\": [\n",
      "        {\n",
      "            \"subject\": {\n",
      "                \"id\": \"http://cltl.nl/leolani/friends/\",\n",
      "                \"type\": \"FRIEND\"\n",
      "            },\n",
      "            \"predicate\": \"http://cltl.nl/combot/predicate/brother-of\",\n",
      "            \"object\": {\n",
      "                \"id\": \"http://cltl.nl/leolani/friends/\",\n",
      "                \"type\": \"FRIEND\"\n",
      "            }\n",
      "        }\n",
      "    ]\n",
      "}\n"
     ]
    }
   ],
   "source": [
    "speaker = piek\n",
    "\n",
    "utterance = \"That is my brother Jim\"\n",
    "tokens = tokenize(utterance)\n",
    "\n",
    "#referentImage = ()\n",
    "token = tokens[4]\n",
    "referent_jim = Friend(None, token[1], 32, Gender.MALE, None)\n",
    "mention = Mention(OffsetSegment(4,5), tokens[4], referent_jim)\n",
    "\n",
    "utterance_annotation = UtteranceAnnotation(None, None, utterance, tokens, piek,\n",
    "                                           Emotion.JOY, [mention])\n",
    "\n",
    "triples = (Triple.from_friends(speaker.id, \"brother-of\", referent_jim.id),)\n",
    "\n",
    "text_signal =  TextSignal(None, utterance_time, ['utterance_1.txt'], [utterance_annotation], triples)\n",
    "\n",
    "\n",
    "print(json.dumps(text_signal, default=serializer, indent=4))"
   ]
  },
  {
   "cell_type": "code",
   "execution_count": null,
   "metadata": {},
   "outputs": [],
   "source": []
  },
  {
   "cell_type": "code",
   "execution_count": null,
   "metadata": {},
   "outputs": [],
   "source": []
  }
 ],
 "metadata": {
  "kernelspec": {
   "display_name": "Python 3",
   "language": "python",
   "name": "python3"
  },
  "language_info": {
   "codemirror_mode": {
    "name": "ipython",
    "version": 3
   },
   "file_extension": ".py",
   "mimetype": "text/x-python",
   "name": "python",
   "nbconvert_exporter": "python",
   "pygments_lexer": "ipython3",
   "version": "3.7.7"
  }
 },
 "nbformat": 4,
 "nbformat_minor": 4
}
